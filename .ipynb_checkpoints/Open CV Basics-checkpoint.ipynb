{
 "cells": [
  {
   "cell_type": "markdown",
   "id": "246cd1d6",
   "metadata": {},
   "source": [
    "## Imports"
   ]
  },
  {
   "cell_type": "code",
   "execution_count": 2,
   "id": "759155d0",
   "metadata": {},
   "outputs": [],
   "source": [
    "import cv2 as cv\n",
    "import numpy as np"
   ]
  },
  {
   "cell_type": "markdown",
   "id": "f7f9b362",
   "metadata": {},
   "source": [
    "## This project contains explanations with examples for different open-cv possible actions.</br>"
   ]
  },
  {
   "cell_type": "markdown",
   "id": "b5095027",
   "metadata": {},
   "source": [
    "## Notes:\n",
    "make format for each area, insert summary, links, etc.</br>\n",
    "add plots for display inside the notebook?</br>\n",
    "explain about open-cv.</br>\n",
    "verify RGB/BGR.</br>"
   ]
  },
  {
   "cell_type": "markdown",
   "id": "ec5cb260",
   "metadata": {},
   "source": [
    "## Basic operations\n",
    "### Import, read and display an image or video."
   ]
  },
  {
   "cell_type": "markdown",
   "id": "0c622013",
   "metadata": {},
   "source": [
    "<h4>Image Basics</h4>\n",
    "Read (import) and show an image.</br>\n",
    "The used functions are cv.imread() for reading and importing and cv.imshow() for displaying the image in a new window.</br>\n",
    "View the official documentation for more information:</br>\n",
    "<a href=\"https://docs.opencv.org/3.4/d4/da8/group__imgcodecs.html#ga288b8b3da0892bd651fce07b3bbd3a56\">imread</a></br>\n",
    "<a href=\"https://docs.opencv.org/3.4/d7/dfc/group__highgui.html#ga453d42fe4cb60e5723281a89973ee563\">imshow</a></br>\n",
    "cv.waitKey() is used to set the image show delay to 0.</br>\n",
    "<a href=\"https://docs.opencv.org/3.4/d7/dfc/group__highgui.html#ga5628525ad33f52eab17feebcfba38bd7\">waitKey</a></br>\n",
    "\n"
   ]
  },
  {
   "cell_type": "code",
   "execution_count": null,
   "id": "a54ab091",
   "metadata": {},
   "outputs": [],
   "source": [
    "img = cv.imread('Resources/Photos/Buddy01.jpeg')#Import an image and assign to a variable.\n",
    "cv.imshow('Buddy', img)#Display the image in a new window. set 'Buddy' as the window title.\n",
    "cv.waitKey(0)#Set delay to 0"
   ]
  },
  {
   "cell_type": "markdown",
   "id": "39f5bf54",
   "metadata": {},
   "source": [
    "<h4>Video Basics</h4>\n",
    "Read (import) and play an existing video.</br>\n",
    "The video is imported and saved in the 'cap' variable using cv.VideoCapture(). View\n",
    "<a href=\"https://docs.opencv.org/3.4/d8/dfe/classcv_1_1VideoCapture.html\">VideoCapture</a></br>\n",
    "The play proccess is using an infinite 'while' loop, with the following flow:</br>\n",
    "1. Frame read: Using the cv.VideoCapture().read() method, a frame is read and assigned to a 'frame' variableand a boolean value is returned to the ret_val variable. View <a href=\"https://docs.opencv.org/3.4/d8/dfe/classcv_1_1VideoCapture.html#a473055e77dd7faa4d26d686226b292c1\">VideoCapture.read</a></br>\n",
    "2. If the read() worked, display the frame in a new window using cv.imshow().\n",
    "3. Check the loop's manual stop condition - if the 'q' key was pressed the loop will break and the play will stop.\n",
    "4. If the read() returned False the loop will break.</br>\n",
    "When the loop ends, we use VideoCapture().release() to release the video capture object and cv.destroyAllWindows()</br>\n",
    "to close all open frames/windows.</br>\n",
    "View:</br>\n",
    "<a href=\"https://docs.opencv.org/3.4/d8/dfe/classcv_1_1VideoCapture.html#afb4ab689e553ba2c8f0fec41b9344ae6\">VideoCapture.release</a></br>\n",
    "<a href=\"https://docs.opencv.org/3.4/d7/dfc/group__highgui.html#ga6b7fc1c1a8960438156912027b38f481\">destroyAllWindows</a></br>"
   ]
  },
  {
   "cell_type": "code",
   "execution_count": null,
   "id": "e8c45e30",
   "metadata": {},
   "outputs": [],
   "source": [
    "cap = cv.VideoCapture('Resources/Videos/Buddy01.mp4')#Import the video and assign to a variable.\n",
    "while True:\n",
    "    ret_val, frame = cap.read()#Captrure the next frame\n",
    "    if ret_val == True:#If a frame exists\n",
    "        cv.imshow('Buddy Video', frame)#Display the current frame\n",
    "        if cv.waitKey(25) & 0xFF==ord('q'):#Press 'q' key to stop and exit\n",
    "            break\n",
    "    else:#No frame exists, break the loop\n",
    "        break\n",
    "        \n",
    "cap.release()#Release the video capture object\n",
    "cv.destroyAllWindows()#Close all the windows/frames"
   ]
  },
  {
   "cell_type": "markdown",
   "id": "ca6d9fc3",
   "metadata": {},
   "source": [
    "<h4>Resize and Rescale Basics</h4>\n",
    "The below defined function resize_frame() takes a frame and scale (set to default = 75%) as arguments and</br>\n",
    "returns a resized frame using the cv.resize() function.</br>\n",
    "View <a href=\"https://docs.opencv.org/3.4/da/d54/group__imgproc__transform.html#ga47a974309e9102f5f08231edc7e7529d\">resize</a>\n",
    "The image height equals to the 'shape 0' value - number of rows and the width to 'shape 1' - number of columns.</br></br>\n",
    "\n",
    "---\n",
    "In the following cells we apply the function to the previous used image and video display algorithms to view the outcome.</br>"
   ]
  },
  {
   "cell_type": "code",
   "execution_count": null,
   "id": "50dd5eda",
   "metadata": {},
   "outputs": [],
   "source": [
    "def resize_frame(frame, scale=0.75):\n",
    "    height = int(frame.shape[0]*scale)#Rescale new height\n",
    "    width = int(frame.shape[1]*scale)#Rescale new width\n",
    "    return cv.resize(frame, (width, height), interpolation=cv.INTER_AREA)#Resize and return the resized frame"
   ]
  },
  {
   "cell_type": "code",
   "execution_count": null,
   "id": "5cb546ce",
   "metadata": {},
   "outputs": [],
   "source": [
    "## Display the original and resized images\n",
    "img = cv.imread('Resources/Photos/Buddy01.jpeg')#Import an image and assign to a variable\n",
    "resized_img = resize_frame(img)#Resize the image using the above created function resize_frame()\n",
    "resized_img2 = resize_frame(img, 0.5)#Resize the image to 50% using the above created function resize_frame()\n",
    "cv.imshow('Buddy', img)#Display the original image in a new window\n",
    "cv.imshow('Buddy Resized', resized_img)#Display the resized image in a new window\n",
    "cv.imshow('Buddy Resized 2', resized_img2)#Display the resized image in a new window\n",
    "\n",
    "cv.waitKey(0)#Set delay to 0"
   ]
  },
  {
   "cell_type": "code",
   "execution_count": null,
   "id": "3eb146a3",
   "metadata": {},
   "outputs": [],
   "source": [
    "## Display the original and resized video\n",
    "cap = cv.VideoCapture('Resources/Videos/Buddy01.mp4')#Import the video and assign to a variable\n",
    "while True:\n",
    "    ret_val, frame = cap.read()#Captrure the next frame\n",
    "    if ret_val == True:#If a frame exists\n",
    "        frame_resized = resize_frame(frame)\n",
    "        cv.imshow('Buddy Video', frame)#Display the original frame\n",
    "        cv.imshow('Buddy Video Resized', frame_resized)#Display the resized frame\n",
    "        if cv.waitKey(25) & 0xFF==ord('q'):#Press 'q' key to stop and exit\n",
    "            break\n",
    "    else:#No frame exists, break the loop\n",
    "        break\n",
    "        \n",
    "cap.release()#Release the video capture object\n",
    "cv.destroyAllWindows()#Close all the windows/frames"
   ]
  },
  {
   "cell_type": "markdown",
   "id": "934a45fc",
   "metadata": {},
   "source": [
    "## Draw, paint and text basics"
   ]
  },
  {
   "cell_type": "markdown",
   "id": "8de77f7d",
   "metadata": {},
   "source": [
    "<h4>Canvas creation</h4>\n",
    "The function create_canvas() implemented below creates and returns a new blac/white canvas to be assigned to a variable and used.</br>\n",
    "If called as '= create_canvas()' the function will return a new 300X300 sized white canvas.</br>\n",
    "The function accepts width and height parameters and any 3<sup>rd</sup> arguments will cause the returned canvas to be black."
   ]
  },
  {
   "cell_type": "code",
   "execution_count": null,
   "id": "66a74b66",
   "metadata": {},
   "outputs": [],
   "source": [
    "## Canvas creation function\n",
    "def create_canvas(width=300, height=300, colour=\"white\"):\n",
    "    if colour == \"white\":\n",
    "        return np.full((int(width),int(height),3),255, dtype = 'uint8')#Create a white canvas using a numpy array, sized 300X300.\n",
    "    else:\n",
    "        return np.zeros((int(width),int(height),3), dtype = 'uint8')#Create a black canvas using a numpy array, sized 300X300."
   ]
  },
  {
   "cell_type": "code",
   "execution_count": null,
   "id": "cb5dcc6f",
   "metadata": {},
   "outputs": [],
   "source": [
    "## Basic image painting - canvas creation\n",
    "black_canvas = create_canvas(250,250,\"black\")\n",
    "cv.imshow('Black canvas', black_canvas)\n",
    "white_canvas = create_canvas()\n",
    "cv.imshow('White canvas', white_canvas)\n",
    "cv.waitKey(0)"
   ]
  },
  {
   "cell_type": "markdown",
   "id": "34cf494d",
   "metadata": {},
   "source": [
    "<h4>Single colour painting</h4>\n",
    "The cell below demonstrates a single colour painting.</br>\n",
    "By defining the entire canvas cell values to be any single color B/G/R value we can paint the entire canvas.</br>\n",
    "Try different B,G,R combinations (0-255 each) to test different colours.</br>"
   ]
  },
  {
   "cell_type": "code",
   "execution_count": null,
   "id": "3b4de8c9",
   "metadata": {},
   "outputs": [],
   "source": [
    "## Basic image painting - one color canvas painting\n",
    "canvas = create_canvas()\n",
    "canvas[:] = 0,0,255\n",
    "cv.imshow('Red Canvas', canvas)\n",
    "canvas[:] = 0,255,0\n",
    "cv.imshow('Green Canvas', canvas)\n",
    "canvas[:] = 255,0,0\n",
    "cv.imshow('Blue Canvas', canvas)\n",
    "cv.waitKey(0)"
   ]
  },
  {
   "cell_type": "markdown",
   "id": "c5790a8b",
   "metadata": {},
   "source": [
    "<h4>Horizontal/vertical painting</h4>\n",
    "The cell below presents different horizontal/vertical black and white painting combinations.</br>\n",
    "In those examples the canvas was divided as 50-50. Change the indexing to try different combinations.</br>\n",
    "Change the assigned values (B,G,R) to check different colour combinations.</br>"
   ]
  },
  {
   "cell_type": "code",
   "execution_count": null,
   "id": "66e0b862",
   "metadata": {},
   "outputs": [],
   "source": [
    "## Basic image painting - shape painting\n",
    "# Horizontal\n",
    "canvas = create_canvas()\n",
    "canvas[150:] = 0,0,0#Set all rows > 150 to value 0,0,0 -> black colour\n",
    "cv.imshow('White and black horizontal split', canvas)\n",
    "canvas[0:150] = 0,0,0#Set all rows < 150 to value 0,0,0 -> black colour\n",
    "canvas[150:] = 255,255,255#Set all rows > 150 to value 255,255,255 -> white colour\n",
    "cv.imshow('Black and white horizontal split', canvas)\n",
    "# Vertical\n",
    "canvas = create_canvas()\n",
    "canvas[:,150:] = 0,0,0#Set all columns > 150 to value 0,0,0 -> black colour\n",
    "cv.imshow('White and black vertical split', canvas)\n",
    "canvas[:,0:150] = 0,0,0#Set all rows < 150 to value 0,0,0 -> black colour\n",
    "canvas[:,150:] = 255,255,255#Set all rows > 150 to value 255,255,255 -> white colour\n",
    "cv.imshow('Black and white vertical split', canvas)\n",
    "cv.waitKey(0)"
   ]
  },
  {
   "cell_type": "markdown",
   "id": "09052367",
   "metadata": {},
   "source": [
    "<h4>Open CV shapes</h4>\n",
    "This section contains different shapes painted using different open-cv functions.</br>\n",
    "View <a href=\"https://docs.opencv.org/3.4/d6/d6e/group__imgproc__draw.html#ga7078a9fae8c7e7d13d24dac2520ae4a2\">line</a></br>\n",
    "View <a href=\"https://docs.opencv.org/3.4/d6/d6e/group__imgproc__draw.html#ga07d2f74cadcf8e305e810ce8eed13bc9\">rectangle</a></br>\n",
    "View <a href=\"https://docs.opencv.org/3.4/d6/d6e/group__imgproc__draw.html#gaf10604b069374903dbd0f0488cb43670\">circle</a>\n"
   ]
  },
  {
   "cell_type": "code",
   "execution_count": null,
   "id": "80ab69f3",
   "metadata": {},
   "outputs": [],
   "source": [
    "#Line\n",
    "canvas = create_canvas()\n",
    "cv.line(canvas, (0,0), (canvas.shape[1]//2,canvas.shape[0]//2), (0,0,0), thickness=5)#Create a diagonal line, starting at (0,0), spreading to the center with thickness=5 px\n",
    "cv.imshow('Diagonal line', canvas)\n",
    "canvas = create_canvas()\n",
    "cv.line(canvas, (canvas.shape[1]//2,0), (canvas.shape[1]//2,canvas.shape[0]), (0,0,0), thickness=5)#Create a diagonal line, starting at (0,0), spreading to the center with thickness=5 px\n",
    "cv.imshow('Vertical center line', canvas)\n",
    "canvas = create_canvas()\n",
    "cv.line(canvas, (0,canvas.shape[0]//2), (canvas.shape[1],canvas.shape[0]//2), (0,0,0), thickness=5)#Create a diagonal line, starting at (0,0), spreading to the center with thickness=5 px\n",
    "cv.imshow('Horizontal center line', canvas)\n",
    "canvas = create_canvas()\n",
    "cv.line(canvas, (canvas.shape[1]//2,0), (canvas.shape[1]//2,canvas.shape[0]), (0,0,0), thickness=5)#Create a diagonal line, starting at (0,0), spreading to the center with thickness=5 px\n",
    "cv.line(canvas, (0,canvas.shape[0]//2), (canvas.shape[1],canvas.shape[0]//2), (0,0,0), thickness=5)#Create a diagonal line, starting at (0,0), spreading to the center with thickness=5 px\n",
    "cv.imshow('Cross', canvas)\n",
    "cv.waitKey(0)"
   ]
  },
  {
   "cell_type": "code",
   "execution_count": null,
   "id": "70d05499",
   "metadata": {},
   "outputs": [],
   "source": [
    "#Empty rectrangle\n",
    "canvas = create_canvas()\n",
    "cv.rectangle(canvas, (0,0), (canvas.shape[1]//2,canvas.shape[0]//2), (0,0,0), thickness=1)#Create a rectangle, starting at (0,0), spreading to (150,150) with a thickness of 1 px\n",
    "cv.imshow('Basic black rectangle', canvas)\n",
    "canvas = create_canvas()\n",
    "cv.rectangle(canvas, (canvas.shape[1]//2,canvas.shape[0]//2), (canvas.shape[1],canvas.shape[0]), (0,0,0), thickness=1)#Create a rectangle, starting at (0,0), spreading to (150,150) with a thickness of 1 px\n",
    "cv.imshow('Basic black rectangle 2', canvas)\n",
    "canvas = create_canvas()\n",
    "cv.rectangle(canvas, (100,100), (200,200), (0,0,0), thickness=2)#Create a rectangle around the center with a thickness of 2 px\n",
    "cv.imshow('Centered black rectangle', canvas)\n",
    "cv.waitKey(0)"
   ]
  },
  {
   "cell_type": "code",
   "execution_count": null,
   "id": "c7193f08",
   "metadata": {},
   "outputs": [],
   "source": [
    "#Filled rectrangle\n",
    "canvas = create_canvas()\n",
    "cv.rectangle(canvas, (0,0), (canvas.shape[1]//2,canvas.shape[0]//2), (0,0,0), thickness=cv.FILLED)#Create a filled rectangle, starting at (0,0), spreading to (150,150)\n",
    "cv.imshow('Basic black rectangle', canvas)\n",
    "canvas = create_canvas()\n",
    "cv.rectangle(canvas, (canvas.shape[1]//2,canvas.shape[0]//2), (canvas.shape[1],canvas.shape[0]), (0,0,0), thickness=cv.FILLED)#Create a filled rectangle, starting at (0,0), spreading to (150,150)\n",
    "canvas = create_canvas()\n",
    "cv.rectangle(canvas, (100,100), (200,200), (0,0,0), thickness=cv.FILLED)#Create a filled rectangle around the center\n",
    "cv.imshow('Centered black rectangle', canvas)\n",
    "cv.waitKey(0)"
   ]
  },
  {
   "cell_type": "code",
   "execution_count": null,
   "id": "b108d8ee",
   "metadata": {},
   "outputs": [],
   "source": [
    "#Empty circle\n",
    "canvas = create_canvas()\n",
    "cv.circle(canvas, (canvas.shape[1]//2,canvas.shape[0]//2), 10, (0,0,0), thickness=1)#Create a circle around the center, radius = 10, thickness of 1 px\n",
    "cv.imshow('Circle 1', canvas)\n",
    "canvas = create_canvas()\n",
    "cv.circle(canvas, (canvas.shape[1]//2,canvas.shape[0]//2), 50, (0,0,0), thickness=2)#Create a circle around the center, radius = 50, thickness of 2 px\n",
    "cv.imshow('Circle 2', canvas)\n",
    "cv.waitKey(0)"
   ]
  },
  {
   "cell_type": "code",
   "execution_count": null,
   "id": "cb6c03cd",
   "metadata": {},
   "outputs": [],
   "source": [
    "#Filled circle\n",
    "canvas = create_canvas()\n",
    "cv.circle(canvas, (canvas.shape[1]//2,canvas.shape[0]//2), 10, (0,0,0), thickness=cv.FILLED)#Create a filled circle around the center, radius = 10\n",
    "cv.imshow('Circle 1', canvas)\n",
    "canvas = create_canvas()\n",
    "cv.circle(canvas, (canvas.shape[1]//2,canvas.shape[0]//2), 50, (0,0,0), thickness=cv.FILLED)#Create a filled circle around the center, radius = 50\n",
    "cv.imshow('Circle 2', canvas)\n",
    "cv.waitKey(0)"
   ]
  },
  {
   "cell_type": "markdown",
   "id": "b16cd97a",
   "metadata": {},
   "source": [
    "<h4>Circles pattern</h4>\n",
    "In this cell we draw mutliple circles as a pattern.</br>\n",
    "We use numpy.linspace() to create an array of integers to be used as radiuses.</br>\n",
    "View <a href=\"https://numpy.org/doc/stable/reference/generated/numpy.linspace.html\">numpy.linspace</a></br>\n",
    "The array will contain integers between 10 to 100 with a jump of 10.</br>\n",
    "To create the pattern we loop through the radiuses array and add a new circle with each radius to the canvas.</br>\n",
    "Change the circles to any other shape (rectangle, etc.) by changing the cv.circle() function to another one of choise."
   ]
  },
  {
   "cell_type": "code",
   "execution_count": null,
   "id": "84fa5948",
   "metadata": {},
   "outputs": [],
   "source": [
    "canvas = create_canvas()\n",
    "radiuses = np.linspace(10,100,10, dtype=int)#Create radius array, 10 points between 10 and 100\n",
    "for radius in radiuses:\n",
    "    cv.circle(canvas, (canvas.shape[1]//2,canvas.shape[0]//2), radius, (0,0,0), thickness=1)#Create a circle around the center, radius changes, thickness of 1 px\n",
    "cv.imshow('Circles', canvas)\n",
    "cv.waitKey(0)"
   ]
  },
  {
   "cell_type": "markdown",
   "id": "c7dc2866",
   "metadata": {},
   "source": [
    "<h4>Add text to image</h4>\n",
    "The cells below show the basic method of writing text to an image with different examples.</br>\n",
    "Adding the text using the cv.putText() function</br>\n",
    "Change the content (string), Point (first tuple), font (cv.FONT_HERSHEY_*), colour (second tuple), scale (double) and thickness (integer) to modify the added text)</br>\n",
    "View <a href=\"https://docs.opencv.org/3.4/d6/d6e/group__imgproc__draw.html#ga5126f47f883d730f633d74f07456c576\">putText</a></br>"
   ]
  },
  {
   "cell_type": "code",
   "execution_count": null,
   "id": "c8af2b75",
   "metadata": {},
   "outputs": [],
   "source": [
    "canvas = create_canvas()\n",
    "cv.putText(canvas, 'Hello World!', (50,50), cv.FONT_HERSHEY_SIMPLEX, 1.0, 2)#Add the text 'Hello World!' starting at (50,50) with a thickness of 2 px\n",
    "cv.imshow('Hello World!', canvas)\n",
    "canvas = create_canvas()\n",
    "cv.putText(canvas, 'Hello World!', (50,200), cv.FONT_HERSHEY_SIMPLEX, 1.0, (0,0,255), 2)#Add the text 'Hello World!' starting at (50,200) with a red colour thickness of 2 px\n",
    "cv.imshow('Hello World! low red', canvas)\n",
    "canvas = create_canvas()\n",
    "cv.putText(canvas, 'Hello World!', (50,50), cv.FONT_HERSHEY_SIMPLEX, 0.5, 5)#Add the text 'Hello World!' starting at (50,50), scaled to 50% with a thickness of 5 px\n",
    "cv.imshow('Hello World! small', canvas)\n",
    "cv.waitKey(0)"
   ]
  },
  {
   "cell_type": "markdown",
   "id": "bbbd68db",
   "metadata": {},
   "source": [
    "## Basic Image Manipulation"
   ]
  },
  {
   "cell_type": "markdown",
   "id": "0abf102a",
   "metadata": {},
   "source": [
    "<h4>Convert a coloured image to grayscale</h4>\n",
    "The next cell imports an image and converts it to grayscale.</br>\n",
    "There are many algorithms that require the usage of grayscale images as input, which makes this function very important to know.</br>\n",
    "We use the cv.imread() function to import and the cv.cvtColor() with the 'cv.COLOR_BGR2GRAY' integer code to convert to grayscale.</br>\n",
    "View <a href=\"https://docs.opencv.org/3.4/d8/d01/group__imgproc__color__conversions.html#ga397ae87e1288a81d2363b61574eb8cab\">cvtColor</a></br>\n"
   ]
  },
  {
   "cell_type": "code",
   "execution_count": 4,
   "id": "6988c9e4",
   "metadata": {},
   "outputs": [
    {
     "data": {
      "text/plain": [
       "-1"
      ]
     },
     "execution_count": 4,
     "metadata": {},
     "output_type": "execute_result"
    }
   ],
   "source": [
    "img = cv.imread('Resources/Photos/Buddy02.jpeg')#Import an image and assign to a variable.\n",
    "gray_image = cv.cvtColor(img, cv.COLOR_BGR2GRAY)#Convert to grayscale\n",
    "cv.imshow('Original Buddy', img)\n",
    "cv.imshow('Gray Buddy', gray_image)\n",
    "cv.waitKey(0)"
   ]
  },
  {
   "cell_type": "markdown",
   "id": "9b35c10a",
   "metadata": {},
   "source": [
    "<h4>Blur image</h4>\n",
    "Blur an image using cv.GaussianBlur().</br>\n",
    "The bigger (positive, odd) Size (first tuple) passed as an argument - the more blurry the image will be.</br>\n",
    "View <a href=\"https://docs.opencv.org/3.4/d4/d86/group__imgproc__filter.html#gaabe8c836e97159a9193fb0b11ac52cf1\">GaussianBlur</a></br>\n",
    "\n"
   ]
  },
  {
   "cell_type": "code",
   "execution_count": null,
   "id": "e3f519f6",
   "metadata": {},
   "outputs": [],
   "source": [
    "img = cv.imread('Resources/Photos/Buddy02.jpeg')#Import an image and assign to a variable.\n",
    "blur_image = cv.GaussianBlur(img, (3,3), cv.BORDER_DEFAULT)#Blur with a kernel size of (3,3)\n",
    "blur_image = cv.GaussianBlur(img, (9,9), cv.BORDER_DEFAULT)#Blur with a kernel size of (9,9)\n",
    "cv.imshow('Original Buddy', img)\n",
    "cv.imshow('Blur Buddy', blur_image)\n",
    "cv.imshow('Blurer Buddy', blur_image)\n",
    "cv.waitKey(0)"
   ]
  },
  {
   "cell_type": "code",
   "execution_count": null,
   "id": "3d3bd093",
   "metadata": {},
   "outputs": [],
   "source": []
  }
 ],
 "metadata": {
  "kernelspec": {
   "display_name": "Python 3 (ipykernel)",
   "language": "python",
   "name": "python3"
  },
  "language_info": {
   "codemirror_mode": {
    "name": "ipython",
    "version": 3
   },
   "file_extension": ".py",
   "mimetype": "text/x-python",
   "name": "python",
   "nbconvert_exporter": "python",
   "pygments_lexer": "ipython3",
   "version": "3.9.7"
  }
 },
 "nbformat": 4,
 "nbformat_minor": 5
}
